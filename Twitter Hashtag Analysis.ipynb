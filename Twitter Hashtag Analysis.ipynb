{
 "cells": [
  {
   "cell_type": "code",
   "execution_count": null,
   "id": "8faeebdb-0bee-4515-9689-5fdeae5b6d2e",
   "metadata": {},
   "outputs": [
    {
     "ename": "ModuleNotFoundError",
     "evalue": "No module named 'matplotlib'",
     "output_type": "error",
     "traceback": [
      "\u001b[1;31m---------------------------------------------------------------------------\u001b[0m",
      "\u001b[1;31mModuleNotFoundError\u001b[0m                       Traceback (most recent call last)",
      "Cell \u001b[1;32mIn[4], line 3\u001b[0m\n\u001b[0;32m      1\u001b[0m \u001b[38;5;28;01mimport\u001b[39;00m\u001b[38;5;250m \u001b[39m\u001b[38;5;21;01mpandas\u001b[39;00m\u001b[38;5;250m \u001b[39m\u001b[38;5;28;01mas\u001b[39;00m\u001b[38;5;250m \u001b[39m\u001b[38;5;21;01mpd\u001b[39;00m\n\u001b[0;32m      2\u001b[0m \u001b[38;5;28;01mimport\u001b[39;00m\u001b[38;5;250m \u001b[39m\u001b[38;5;21;01mre\u001b[39;00m\n\u001b[1;32m----> 3\u001b[0m \u001b[38;5;28;01mimport\u001b[39;00m\u001b[38;5;250m \u001b[39m\u001b[38;5;21;01mmatplotlib\u001b[39;00m\u001b[38;5;21;01m.\u001b[39;00m\u001b[38;5;21;01mpyplot\u001b[39;00m\u001b[38;5;250m \u001b[39m\u001b[38;5;28;01mas\u001b[39;00m\u001b[38;5;250m \u001b[39m\u001b[38;5;21;01mplt\u001b[39;00m \u001b[38;5;66;03m# type: ignore\u001b[39;00m\n\u001b[0;32m      4\u001b[0m \u001b[38;5;28;01mfrom\u001b[39;00m\u001b[38;5;250m \u001b[39m\u001b[38;5;21;01mcollections\u001b[39;00m\u001b[38;5;250m \u001b[39m\u001b[38;5;28;01mimport\u001b[39;00m Counter\n\u001b[0;32m      6\u001b[0m \u001b[38;5;66;03m# Load dataset\u001b[39;00m\n",
      "\u001b[1;31mModuleNotFoundError\u001b[0m: No module named 'matplotlib'"
     ]
    }
   ],
   "source": [
    "import pandas as pd\n",
    "import re\n",
    "import matplotlib.pyplot as plt \n",
    "from collections import Counter\n",
    "\n",
    "# Load dataset\n",
    "df = pd.read_csv(\"twitter_large_dataset.csv\")\n",
    "\n",
    "# Function to extract hashtags\n",
    "def extract_hashtags(tweet):\n",
    "    return re.findall(r'#\\w+', tweet)\n",
    "\n",
    "df['Hashtags'] = df['Tweet'].apply(extract_hashtags)\n",
    "\n",
    "# Flatten hashtag list\n",
    "all_hashtags = [hashtag for hashtags in df['Hashtags'] for hashtag in hashtags]\n",
    "\n",
    "# Frequency distribution\n",
    "hashtag_counts = Counter(all_hashtags)\n",
    "hashtag_df = pd.DataFrame(hashtag_counts.items(), columns=['Hashtag', 'Count'])\n",
    "\n",
    "# Aggregate engagement per hashtag\n",
    "engagement_data = []\n",
    "for index, row in df.iterrows():\n",
    "    for hashtag in row['Hashtags']:\n",
    "        engagement_data.append({'Hashtag': hashtag, 'Likes': row['Likes'], 'Retweets': row['Retweets']})\n",
    "\n",
    "engagement_df = pd.DataFrame(engagement_data)\n",
    "aggr_engagement = engagement_df.groupby('Hashtag').sum().reset_index()\n",
    "\n",
    "# Visualization\n",
    "plt.figure(figsize=(10, 5))\n",
    "hashtag_df.sort_values(by='Count', ascending=False).head(10).plot(\n",
    "    x='Hashtag', y='Count', kind='bar', legend=False, color='skyblue', ax=plt.gca()\n",
    ")\n",
    "plt.title(\"Top Hashtags by Frequency\")\n",
    "plt.ylabel(\"Count\")\n",
    "plt.xticks(rotation=45)\n",
    "plt.show()\n",
    "\n",
    "plt.figure(figsize=(10, 5))\n",
    "aggr_engagement.sort_values(by='Likes', ascending=False).head(10).plot(\n",
    "    x='Hashtag', y='Likes', kind='bar', legend=False, color='lightcoral', ax=plt.gca()\n",
    ")\n",
    "plt.title(\"Top Hashtags by Likes\")\n",
    "plt.ylabel(\"Likes\")\n",
    "plt.xticks(rotation=45)\n",
    "plt.show()\n",
    "\n",
    "plt.figure(figsize=(10, 5))\n",
    "aggr_engagement.sort_values(by='Retweets', ascending=False).head(10).plot(\n",
    "    x='Hashtag', y='Retweets', kind='bar', legend=False, color='seagreen', ax=plt.gca()\n",
    ")\n",
    "plt.title(\"Top Hashtags by Retweets\")\n",
    "plt.ylabel(\"Retweets\")\n",
    "plt.xticks(rotation=45)\n",
    "plt.show()"
   ]
  },
  {
   "cell_type": "code",
   "execution_count": null,
   "id": "a1f59a70-f201-4206-975b-81d54a3a26ee",
   "metadata": {},
   "outputs": [],
   "source": []
  }
 ],
 "metadata": {
  "kernelspec": {
   "display_name": "Python 3",
   "language": "python",
   "name": "python3"
  },
  "language_info": {
   "codemirror_mode": {
    "name": "ipython",
    "version": 3
   },
   "file_extension": ".py",
   "mimetype": "text/x-python",
   "name": "python",
   "nbconvert_exporter": "python",
   "pygments_lexer": "ipython3",
   "version": "3.12.8"
  }
 },
 "nbformat": 4,
 "nbformat_minor": 5
}
